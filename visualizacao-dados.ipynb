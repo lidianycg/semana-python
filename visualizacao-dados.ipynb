{
 "cells": [
  {
   "cell_type": "markdown",
   "id": "e383181f",
   "metadata": {},
   "source": [
    "# Biblioteca"
   ]
  },
  {
   "cell_type": "code",
   "execution_count": null,
   "id": "fa3815d8",
   "metadata": {},
   "outputs": [],
   "source": [
    "import pandas as pd"
   ]
  },
  {
   "cell_type": "markdown",
   "id": "9a800b98",
   "metadata": {},
   "source": [
    "# Carregando dados"
   ]
  },
  {
   "cell_type": "code",
   "execution_count": null,
   "id": "627933e4",
   "metadata": {},
   "outputs": [],
   "source": [
    "dados = pd.read_excel(\"vendas.xlsx\")"
   ]
  },
  {
   "cell_type": "markdown",
   "id": "b438542a",
   "metadata": {},
   "source": [
    "# Análise Exploratória"
   ]
  },
  {
   "cell_type": "code",
   "execution_count": null,
   "id": "86723763",
   "metadata": {},
   "outputs": [],
   "source": [
    "# Listar primeiras linhas. \n",
    "dados.head()\n",
    "# Listar as últimas linhas\n",
    "dados.tail()\n",
    "# Tamanho da tabela de dados (l,c)\n",
    "dados.shape"
   ]
  },
  {
   "cell_type": "code",
   "execution_count": null,
   "id": "a01cf3e4",
   "metadata": {},
   "outputs": [],
   "source": [
    "# Tipo de dados por coluna\n",
    "dados.dtypes\n",
    "\n",
    "# Exibição dos dados\n",
    "dados"
   ]
  },
  {
   "cell_type": "markdown",
   "id": "1ca4f62b",
   "metadata": {},
   "source": [
    "# Estatísticas"
   ]
  },
  {
   "cell_type": "code",
   "execution_count": null,
   "id": "ee0fc93c",
   "metadata": {},
   "outputs": [],
   "source": [
    "# Gerando estatíticas\n",
    "dados.describe()"
   ]
  },
  {
   "cell_type": "markdown",
   "id": "b4aec0e7",
   "metadata": {},
   "source": [
    "# Análises"
   ]
  },
  {
   "cell_type": "code",
   "execution_count": null,
   "id": "6e54e6c1",
   "metadata": {},
   "outputs": [],
   "source": [
    "# Seleciona os dados somente da coluna preço\n",
    "dados.preco"
   ]
  },
  {
   "cell_type": "code",
   "execution_count": null,
   "id": "b4371dee",
   "metadata": {},
   "outputs": [],
   "source": [
    "# Contagem do total de vendas de cada loja\n",
    "dados.loja.value_counts()\n",
    "\n",
    "# Total de pedidos por tamanho\n",
    "dados.tamanho.value_counts()\n",
    "\n",
    "# Formas de pgto mais utilizadas\n",
    "dados.forma_pagamento.value_counts()"
   ]
  },
  {
   "cell_type": "markdown",
   "id": "c5d5661f",
   "metadata": {},
   "source": [
    "# Agrupamento de dados"
   ]
  },
  {
   "cell_type": "code",
   "execution_count": null,
   "id": "0bc454a4",
   "metadata": {},
   "outputs": [],
   "source": [
    "dados"
   ]
  },
  {
   "cell_type": "code",
   "execution_count": null,
   "id": "c2f66a04",
   "metadata": {},
   "outputs": [],
   "source": [
    "# Faturamento por loja\n",
    "dados.groupby(\"loja\").preco.sum()"
   ]
  },
  {
   "cell_type": "code",
   "execution_count": null,
   "id": "f4f333a3",
   "metadata": {},
   "outputs": [],
   "source": [
    "# Faturamento médio por loja\n",
    "dados.groupby(\"loja\").preco.mean()"
   ]
  },
  {
   "cell_type": "code",
   "execution_count": null,
   "id": "bcdb166e",
   "metadata": {},
   "outputs": [],
   "source": [
    "dados"
   ]
  },
  {
   "cell_type": "code",
   "execution_count": null,
   "id": "b517205a",
   "metadata": {},
   "outputs": [],
   "source": [
    "# Faturamento por estado\n",
    "dados.groupby(\"estado\").preco.sum()\n",
    "# Faturamento por estado e cidade\n",
    "dados.groupby([\"estado\", \"cidade\"]).preco.sum().to_frame()"
   ]
  },
  {
   "cell_type": "code",
   "execution_count": null,
   "id": "05bcc7d9",
   "metadata": {},
   "outputs": [],
   "source": [
    "# Faturamento por estado e cidade - Download\n",
    "dados.groupby([\"estado\", \"cidade\"]).preco.sum().to_excel(\"Faturamento-estado-cidade.xlsx\")"
   ]
  },
  {
   "cell_type": "markdown",
   "id": "412cbc7f",
   "metadata": {},
   "source": [
    "# Visualização de dados"
   ]
  },
  {
   "cell_type": "code",
   "execution_count": null,
   "id": "bfb2a715",
   "metadata": {},
   "outputs": [],
   "source": [
    "# Instalar biblioteca de visualização de dados\n",
    "!pip install plotly_express"
   ]
  },
  {
   "cell_type": "code",
   "execution_count": null,
   "id": "ce375c2f",
   "metadata": {},
   "outputs": [],
   "source": [
    "import plotly_express as px"
   ]
  },
  {
   "cell_type": "code",
   "execution_count": null,
   "id": "fd72e5aa",
   "metadata": {},
   "outputs": [],
   "source": [
    "px.histogram(dados, x=\"loja\")"
   ]
  },
  {
   "cell_type": "code",
   "execution_count": null,
   "id": "f65a8716",
   "metadata": {},
   "outputs": [],
   "source": [
    "px.histogram(dados, x=\"loja\", y=\"preco\", text_auto=True)"
   ]
  },
  {
   "cell_type": "code",
   "execution_count": null,
   "id": "4ddc8cde",
   "metadata": {},
   "outputs": [],
   "source": [
    "# Deixar as cores por estado diferentes\n",
    "px.histogram(dados, x=\"loja\", y=\"preco\", text_auto=True, color=\"estado\")"
   ]
  },
  {
   "cell_type": "code",
   "execution_count": null,
   "id": "caa68fdd",
   "metadata": {},
   "outputs": [],
   "source": [
    "# Análise por forma de pagamento\n",
    "px.histogram(dados, x=\"loja\", y=\"preco\", text_auto=True, color=\"forma_pagamento\")"
   ]
  },
  {
   "cell_type": "code",
   "execution_count": null,
   "id": "88d719e8",
   "metadata": {},
   "outputs": [],
   "source": [
    "# Baixar arquivo dinâmico/ clicável\n",
    "\n",
    "grafico = px.histogram(dados, x=\"loja\", y=\"preco\", text_auto=True, color=\"forma_pagamento\")\n",
    "grafico.show()\n",
    "grafico.write_html(\"Gráfico-forma-pagamento.html\")"
   ]
  },
  {
   "cell_type": "code",
   "execution_count": null,
   "id": "97b9f61c",
   "metadata": {},
   "outputs": [],
   "source": [
    "# Mudar visualização para: por estado\n",
    "\n",
    "grafico = px.histogram(dados, x=\"estado\", y=\"preco\", text_auto=True, color=\"forma_pagamento\")\n",
    "grafico.show()\n",
    "# grafico.write_html(\"Gráfico-forma-pagamento.html\")"
   ]
  },
  {
   "cell_type": "code",
   "execution_count": null,
   "id": "09d772c2",
   "metadata": {},
   "outputs": [],
   "source": [
    "dados.head()"
   ]
  },
  {
   "cell_type": "markdown",
   "id": "f9ad2563",
   "metadata": {},
   "source": [
    "# Listas (estrutura de dados)"
   ]
  },
  {
   "cell_type": "code",
   "execution_count": null,
   "id": "7f7ba77c",
   "metadata": {},
   "outputs": [],
   "source": [
    "lista_colunas = [\"loja\", \"cidade\", \"estado\", \"regiao\", \"tamanho\", \"local_consumo\"]\n",
    "lista_colunas[0]"
   ]
  },
  {
   "cell_type": "markdown",
   "id": "74011331",
   "metadata": {},
   "source": [
    "# Estrutura de repetição (laço)"
   ]
  },
  {
   "cell_type": "code",
   "execution_count": null,
   "id": "593fca1f",
   "metadata": {},
   "outputs": [],
   "source": [
    "for coluna in lista_colunas:\n",
    "    grafico = px.histogram(dados, x=coluna, y=\"preco\", text_auto=True, color=\"forma_pagamento\")\n",
    "\tgrafico.show()\n",
    "\tgrafico.write_html(f\"Gráfico-{coluna}.html\")"
   ]
  },
  {
   "cell_type": "code",
   "execution_count": null,
   "id": "4ac5dda6",
   "metadata": {},
   "outputs": [],
   "source": []
  },
  {
   "cell_type": "code",
   "execution_count": null,
   "id": "165fb18f",
   "metadata": {},
   "outputs": [],
   "source": []
  },
  {
   "cell_type": "code",
   "execution_count": null,
   "id": "eb7d00eb",
   "metadata": {},
   "outputs": [],
   "source": []
  }
 ],
 "metadata": {
  "kernelspec": {
   "display_name": "Python 3 (ipykernel)",
   "language": "python",
   "name": "python3"
  },
  "language_info": {
   "codemirror_mode": {
    "name": "ipython",
    "version": 3
   },
   "file_extension": ".py",
   "mimetype": "text/x-python",
   "name": "python",
   "nbconvert_exporter": "python",
   "pygments_lexer": "ipython3",
   "version": "3.10.9"
  }
 },
 "nbformat": 4,
 "nbformat_minor": 5
}
