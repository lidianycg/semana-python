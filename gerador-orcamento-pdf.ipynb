{
 "cells": [
  {
   "cell_type": "markdown",
   "id": "fe007b4d",
   "metadata": {},
   "source": [
    "# Entrada de dados"
   ]
  },
  {
   "cell_type": "code",
   "execution_count": 16,
   "id": "f83a0281",
   "metadata": {},
   "outputs": [
    {
     "name": "stdout",
     "output_type": "stream",
     "text": [
      "Digite a descrição do projeto: Projeto Teste\n",
      "Digite o total de horas estimadas: 200\n",
      "Digite o valor da hora trabalhada: 100\n",
      "Digite o prazo estimado: 6 meses\n"
     ]
    },
    {
     "data": {
      "text/plain": [
       "'6 meses'"
      ]
     },
     "execution_count": 16,
     "metadata": {},
     "output_type": "execute_result"
    }
   ],
   "source": [
    "input(\"Digite a descrição do projeto: \")\n",
    "input(\"Digite o total de horas estimadas: \")\n",
    "input(\"Digite o valor da hora trabalhada: \")\n",
    "input(\"Digite o prazo estimado: \")"
   ]
  },
  {
   "cell_type": "markdown",
   "id": "121ab85e",
   "metadata": {},
   "source": [
    "# Gravando dados\t"
   ]
  },
  {
   "cell_type": "code",
   "execution_count": 17,
   "id": "9ada767c",
   "metadata": {},
   "outputs": [
    {
     "name": "stdout",
     "output_type": "stream",
     "text": [
      "Digite a descrição do projeto: Projeto teste 2\n",
      "Digite o total de horas estimadas: 300\n",
      "Digite o valor da hora trabalhada: 100\n",
      "Digite o prazo estimado: 1 mês\n"
     ]
    }
   ],
   "source": [
    "projeto = input(\"Digite a descrição do projeto: \")\n",
    "horas_estimadas = input(\"Digite o total de horas estimadas: \")\n",
    "valor_hora = input(\"Digite o valor da hora trabalhada: \")\n",
    "prazo = input(\"Digite o prazo estimado: \")"
   ]
  },
  {
   "cell_type": "code",
   "execution_count": 18,
   "id": "7dc3afec",
   "metadata": {},
   "outputs": [],
   "source": [
    "valor_tot=int(horas_estimadas)*int(valor_hora)"
   ]
  },
  {
   "cell_type": "code",
   "execution_count": 19,
   "id": "d5248e22",
   "metadata": {},
   "outputs": [
    {
     "name": "stdout",
     "output_type": "stream",
     "text": [
      "30000\n"
     ]
    }
   ],
   "source": [
    "print(valor_tot)"
   ]
  },
  {
   "cell_type": "markdown",
   "id": "c9755a4d",
   "metadata": {},
   "source": [
    "# Gerador de PDF"
   ]
  },
  {
   "cell_type": "code",
   "execution_count": 20,
   "id": "7964b784",
   "metadata": {},
   "outputs": [
    {
     "name": "stdout",
     "output_type": "stream",
     "text": [
      "Requirement already satisfied: fpdf in c:\\users\\lidia\\anaconda3\\lib\\site-packages (1.7.2)\n"
     ]
    }
   ],
   "source": [
    "!pip install fpdf"
   ]
  },
  {
   "cell_type": "code",
   "execution_count": 21,
   "id": "525b2a98",
   "metadata": {},
   "outputs": [],
   "source": [
    "from fpdf import FPDF"
   ]
  },
  {
   "cell_type": "code",
   "execution_count": 22,
   "id": "b6fc4143",
   "metadata": {},
   "outputs": [],
   "source": [
    "pdf = FPDF()"
   ]
  },
  {
   "cell_type": "code",
   "execution_count": 23,
   "id": "c28f1931",
   "metadata": {},
   "outputs": [
    {
     "name": "stdout",
     "output_type": "stream",
     "text": [
      "Orçamento gerado com sucesso\n"
     ]
    }
   ],
   "source": [
    "pdf.add_page()\n",
    "pdf.set_font(\"Arial\")\n",
    "pdf.image(\"template.png\", x=0, y=0)\n",
    "\n",
    "pdf.text(115,145, projeto)\n",
    "pdf.text(115,160, horas_estimadas)\n",
    "pdf.text(115,175, valor_hora)\n",
    "pdf.text(115,190, prazo)\n",
    "pdf.text(115,205, str(valor_tot))\n",
    "\n",
    "pdf.output(\"Orçamento.pdf\")\n",
    "print(\"Orçamento gerado com sucesso\")"
   ]
  },
  {
   "cell_type": "code",
   "execution_count": null,
   "id": "f132d908",
   "metadata": {},
   "outputs": [],
   "source": []
  }
 ],
 "metadata": {
  "kernelspec": {
   "display_name": "Python 3 (ipykernel)",
   "language": "python",
   "name": "python3"
  },
  "language_info": {
   "codemirror_mode": {
    "name": "ipython",
    "version": 3
   },
   "file_extension": ".py",
   "mimetype": "text/x-python",
   "name": "python",
   "nbconvert_exporter": "python",
   "pygments_lexer": "ipython3",
   "version": "3.10.9"
  }
 },
 "nbformat": 4,
 "nbformat_minor": 5
}
